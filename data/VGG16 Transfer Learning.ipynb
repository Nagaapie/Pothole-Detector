{
 "cells": [
  {
   "cell_type": "markdown",
   "metadata": {},
   "source": [
    "# Test the VGG16 Transfer Learning Bottleneck Features"
   ]
  },
  {
   "cell_type": "code",
   "execution_count": 1,
   "metadata": {},
   "outputs": [
    {
     "name": "stdout",
     "output_type": "stream",
     "text": [
      "dataset shape = (4026, 7, 7, 512)\n"
     ]
    }
   ],
   "source": [
    "import numpy as np\n",
    "from glob import glob\n",
    "\n",
    "files = np.load(\"bottleneck_features.npz\")\n",
    "# retrieve dataset and labels from file\n",
    "dataset, targets = files[\"data\"], files[\"targets\"]\n",
    "print(\"dataset shape = {}\".format(dataset.shape))\n",
    "# shape is (# images,7,7,512) --> 7,7,512 is the output shape of the VGG16 convolutional layers"
   ]
  },
  {
   "cell_type": "code",
   "execution_count": 2,
   "metadata": {},
   "outputs": [
    {
     "name": "stderr",
     "output_type": "stream",
     "text": [
      "Using TensorFlow backend.\n"
     ]
    },
    {
     "name": "stdout",
     "output_type": "stream",
     "text": [
      "_________________________________________________________________\n",
      "Layer (type)                 Output Shape              Param #   \n",
      "=================================================================\n",
      "flatten_1 (Flatten)          (None, 25088)             0         \n",
      "_________________________________________________________________\n",
      "dense_1 (Dense)              (None, 100)               2508900   \n",
      "_________________________________________________________________\n",
      "dense_2 (Dense)              (None, 10)                1010      \n",
      "_________________________________________________________________\n",
      "dense_3 (Dense)              (None, 1)                 11        \n",
      "=================================================================\n",
      "Total params: 2,509,921\n",
      "Trainable params: 2,509,921\n",
      "Non-trainable params: 0\n",
      "_________________________________________________________________\n"
     ]
    }
   ],
   "source": [
    "from keras.layers import Dense, Flatten\n",
    "from keras.models import Sequential\n",
    "from keras.layers import GlobalMaxPooling2D\n",
    "\n",
    "# start creating a neural network\n",
    "model = Sequential()\n",
    "# add an input layer that takes in the bottleneck featuress\n",
    "model.add(Flatten(input_shape=(7, 7, 512)))\n",
    "# create a 100 unit (# neurons in layer)\n",
    "model.add(Dense(100, activation='relu'))\n",
    "model.add(Dense(10, activation='relu'))\n",
    "# output the probability of being in class 1 or class 2\n",
    "model.add(Dense(1, activation='sigmoid'))\n",
    "# create the model using a binary loss function, optimised using rmsprop (https://keras.io/optimizers/#rmsprop)\n",
    "model.compile(loss='binary_crossentropy', optimizer='rmsprop', \n",
    "                  metrics=['accuracy'])\n",
    "# show model architecture\n",
    "model.summary()"
   ]
  },
  {
   "cell_type": "code",
   "execution_count": 3,
   "metadata": {
    "scrolled": true
   },
   "outputs": [
    {
     "name": "stdout",
     "output_type": "stream",
     "text": [
      "Train on 3019 samples, validate on 1007 samples\n",
      "Epoch 1/10\n",
      "3019/3019 [==============================] - 2s - loss: 0.5292 - acc: 0.7705 - val_loss: 1.2768 - val_acc: 0.0000e+00\n",
      "Epoch 2/10\n",
      "3019/3019 [==============================] - 1s - loss: 0.3390 - acc: 0.8824 - val_loss: 1.3996 - val_acc: 0.5194\n",
      "Epoch 3/10\n",
      "3019/3019 [==============================] - 1s - loss: 0.2954 - acc: 0.9033 - val_loss: 1.4752 - val_acc: 0.4886\n",
      "Epoch 4/10\n",
      "3019/3019 [==============================] - 1s - loss: 0.2670 - acc: 0.9218 - val_loss: 1.2276 - val_acc: 0.5968\n",
      "Epoch 5/10\n",
      "3019/3019 [==============================] - 0s - loss: 0.2543 - acc: 0.9261 - val_loss: 1.3471 - val_acc: 0.5859\n",
      "Epoch 6/10\n",
      "3019/3019 [==============================] - 0s - loss: 0.2321 - acc: 0.9400 - val_loss: 1.3701 - val_acc: 0.5869\n",
      "Epoch 7/10\n",
      "3019/3019 [==============================] - 0s - loss: 0.2230 - acc: 0.9434 - val_loss: 0.6239 - val_acc: 0.9662\n",
      "Epoch 8/10\n",
      "3019/3019 [==============================] - 0s - loss: 0.2027 - acc: 0.9457 - val_loss: 0.5973 - val_acc: 0.9861\n",
      "Epoch 9/10\n",
      "3019/3019 [==============================] - 0s - loss: 0.2062 - acc: 0.9457 - val_loss: 1.0953 - val_acc: 0.6971\n",
      "Epoch 10/10\n",
      "3019/3019 [==============================] - 0s - loss: 0.1898 - acc: 0.9596 - val_loss: 0.5726 - val_acc: 0.9881\n"
     ]
    }
   ],
   "source": [
    "from keras.callbacks import ModelCheckpoint   \n",
    "\n",
    "# train the model\n",
    "checkpointer = ModelCheckpoint(filepath='vgg16.weights.best.hdf5', verbose=0, \n",
    "                               save_best_only=True)\n",
    "# epochs is number of times the entire dataset is run through the model\n",
    "# batch_size is how many images are run through the model at a time. \n",
    "#    There are multiple batches per epoch to get through all the images \n",
    "# validation_split is the proportion of data that your model is validated on automatically by keras\n",
    "#    play around with this to make sure there is a good balance between 'acc' and 'val_acc' \n",
    "#    (which are values between 0 and 1 indicating accuracy)\n",
    "# callbacks calls the checkpointer above to save the best weights\n",
    "# verbose logs the output\n",
    "# shuffle makes sure the order the images 'go through' the model is pseudo-randomised to add robustness \n",
    "history = model.fit(dataset, targets, epochs=10, batch_size=64, validation_split=0.25, \n",
    "          callbacks=[checkpointer], verbose=1, shuffle=True)"
   ]
  },
  {
   "cell_type": "code",
   "execution_count": 4,
   "metadata": {},
   "outputs": [
    {
     "data": {
      "text/plain": [
       "[<matplotlib.lines.Line2D at 0x7f85d414f9e8>]"
      ]
     },
     "execution_count": 4,
     "metadata": {},
     "output_type": "execute_result"
    },
    {
     "data": {
      "image/png": "[encoded data removed]",
      "text/plain": [
       "<matplotlib.figure.Figure at 0x7f8602784908>"
      ]
     },
     "metadata": {},
     "output_type": "display_data"
    }
   ],
   "source": [
    "import matplotlib.pyplot as plt\n",
    "% matplotlib inline\n",
    "plt.plot(history.history['loss'])"
   ]
  },
  {
   "cell_type": "markdown",
   "metadata": {
    "collapsed": true
   },
   "source": [
    "### Load the best weights"
   ]
  },
  {
   "cell_type": "code",
   "execution_count": 5,
   "metadata": {
    "collapsed": true
   },
   "outputs": [],
   "source": [
    "# load the weights that yielded the best validation accuracy\n",
    "model.load_weights('vgg16.weights.best.hdf5')"
   ]
  },
  {
   "cell_type": "markdown",
   "metadata": {},
   "source": [
    "### Determine Accuracy  (this won't run until the bottleneck_features_test.npz file is available)"
   ]
  },
  {
   "cell_type": "code",
   "execution_count": 6,
   "metadata": {},
   "outputs": [
    {
     "name": "stdout",
     "output_type": "stream",
     "text": [
      "test_dataset shape = (1650, 7, 7, 512)\n",
      "SCORE = 44.96969696969697\n"
     ]
    }
   ],
   "source": [
    "test_files = np.load(\"bottleneck_features_test.npz\")\n",
    "\n",
    "test_dataset, test_targets = test_files[\"data\"], test_files[\"targets\"]\n",
    "print(\"test_dataset shape = {}\".format(test_dataset.shape))\n",
    "test_predictions = model.predict(test_dataset)\n",
    "correct=0\n",
    "for i,prediction in enumerate(test_predictions):\n",
    "    prediction = 0 if prediction>0.5 else 1\n",
    "    if prediction==test_targets[i]:\n",
    "        correct+=1\n",
    "print(\"SCORE = {}\".format(correct*100/len(test_targets)))"
   ]
  },
  {
   "cell_type": "code",
   "execution_count": null,
   "metadata": {
    "collapsed": true
   },
   "outputs": [],
   "source": [
    "print(\"YOU'RE DONE!\")"
   ]
  }
 ],
 "metadata": {
  "kernelspec": {
   "display_name": "aind",
   "language": "python",
   "name": "aind"
  },
  "language_info": {
   "codemirror_mode": {
    "name": "ipython",
    "version": 3
   },
   "file_extension": ".py",
   "mimetype": "text/x-python",
   "name": "python",
   "nbconvert_exporter": "python",
   "pygments_lexer": "ipython3",
   "version": "3.6.2"
  }
 },
 "nbformat": 4,
 "nbformat_minor": 2
}
